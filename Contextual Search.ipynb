{
 "cells": [
  {
   "cell_type": "markdown",
   "id": "41a72c9f",
   "metadata": {},
   "source": [
    "<p>\n",
    "    <img align= left width=120 src=\"https://photos.angel.co/startups/i/8376586-be95fe56adf287171e22c21ac9d9f331-medium_jpg.jpg?buster=1623229867\" >\n",
    "    &nbsp; <h1> - Contextual Search Task</h1>\n",
    "</p>"
   ]
  },
  {
   "cell_type": "code",
   "execution_count": 115,
   "id": "13417550",
   "metadata": {},
   "outputs": [],
   "source": [
    "!jt -t grade3 -fs 11 -ofs 10"
   ]
  },
  {
   "cell_type": "markdown",
   "id": "27f6ba1f",
   "metadata": {},
   "source": [
    "## EXPLORING DATASET"
   ]
  },
  {
   "cell_type": "code",
   "execution_count": 17,
   "id": "2996b03d",
   "metadata": {},
   "outputs": [],
   "source": [
    "import pandas as pd"
   ]
  },
  {
   "cell_type": "code",
   "execution_count": 18,
   "id": "a5fb8b98",
   "metadata": {},
   "outputs": [
    {
     "name": "stdout",
     "output_type": "stream",
     "text": [
      "Untitled.ipynb           Zevi_search_dataset.json laptops.csv\r\n"
     ]
    }
   ],
   "source": [
    "!ls"
   ]
  },
  {
   "cell_type": "code",
   "execution_count": 19,
   "id": "5f43085e",
   "metadata": {},
   "outputs": [],
   "source": [
    "df = pd.read_json(\"Zevi_search_dataset.json\")"
   ]
  },
  {
   "cell_type": "code",
   "execution_count": 20,
   "id": "0c03268b",
   "metadata": {},
   "outputs": [
    {
     "data": {
      "text/plain": [
       "Index(['name', 'description', 'brand', 'categories', 'hierarchicalCategories',\n",
       "       'type', 'price', 'price_range', 'image', 'url', 'free_shipping',\n",
       "       'rating', 'popularity', 'objectID'],\n",
       "      dtype='object')"
      ]
     },
     "execution_count": 20,
     "metadata": {},
     "output_type": "execute_result"
    }
   ],
   "source": [
    "df.columns"
   ]
  },
  {
   "cell_type": "code",
   "execution_count": 21,
   "id": "d17f3197",
   "metadata": {},
   "outputs": [
    {
     "data": {
      "text/html": [
       "<div>\n",
       "<style scoped>\n",
       "    .dataframe tbody tr th:only-of-type {\n",
       "        vertical-align: middle;\n",
       "    }\n",
       "\n",
       "    .dataframe tbody tr th {\n",
       "        vertical-align: top;\n",
       "    }\n",
       "\n",
       "    .dataframe thead th {\n",
       "        text-align: right;\n",
       "    }\n",
       "</style>\n",
       "<table border=\"1\" class=\"dataframe\">\n",
       "  <thead>\n",
       "    <tr style=\"text-align: right;\">\n",
       "      <th></th>\n",
       "      <th>name</th>\n",
       "      <th>description</th>\n",
       "      <th>brand</th>\n",
       "      <th>categories</th>\n",
       "      <th>hierarchicalCategories</th>\n",
       "      <th>type</th>\n",
       "      <th>price</th>\n",
       "      <th>price_range</th>\n",
       "      <th>image</th>\n",
       "      <th>url</th>\n",
       "      <th>free_shipping</th>\n",
       "      <th>rating</th>\n",
       "      <th>popularity</th>\n",
       "      <th>objectID</th>\n",
       "    </tr>\n",
       "  </thead>\n",
       "  <tbody>\n",
       "    <tr>\n",
       "      <th>0</th>\n",
       "      <td>Amazon - Fire TV Stick with Alexa Voice Remote...</td>\n",
       "      <td>Enjoy smart access to videos, games and apps w...</td>\n",
       "      <td>Amazon</td>\n",
       "      <td>[TV &amp; Home Theater, Streaming Media Players]</td>\n",
       "      <td>{'lvl0': 'TV &amp; Home Theater', 'lvl1': 'TV &amp; Ho...</td>\n",
       "      <td>Streaming media plyr</td>\n",
       "      <td>39.99</td>\n",
       "      <td>1 - 50</td>\n",
       "      <td>https://cdn-demo.algolia.com/bestbuy-0118/5477...</td>\n",
       "      <td>https://api.bestbuy.com/click/-/5477500/pdp</td>\n",
       "      <td>False</td>\n",
       "      <td>4</td>\n",
       "      <td>21469</td>\n",
       "      <td>5477500</td>\n",
       "    </tr>\n",
       "    <tr>\n",
       "      <th>1</th>\n",
       "      <td>Google - Chromecast - Black</td>\n",
       "      <td>Google Chromecast: Enjoy a world of entertainm...</td>\n",
       "      <td>Google</td>\n",
       "      <td>[TV &amp; Home Theater, Streaming Media Players]</td>\n",
       "      <td>{'lvl0': 'TV &amp; Home Theater', 'lvl1': 'TV &amp; Ho...</td>\n",
       "      <td>Streaming media plyr</td>\n",
       "      <td>35.00</td>\n",
       "      <td>1 - 50</td>\n",
       "      <td>https://cdn-demo.algolia.com/bestbuy-0118/4397...</td>\n",
       "      <td>https://api.bestbuy.com/click/-/4397400/pdp</td>\n",
       "      <td>False</td>\n",
       "      <td>4</td>\n",
       "      <td>21468</td>\n",
       "      <td>4397400</td>\n",
       "    </tr>\n",
       "    <tr>\n",
       "      <th>2</th>\n",
       "      <td>Dell - Inspiron 15.6\" Touch-Screen Laptop - In...</td>\n",
       "      <td>Dell Inspiron Laptop: Get speed and performanc...</td>\n",
       "      <td>Dell</td>\n",
       "      <td>[Computers &amp; Tablets, Laptops]</td>\n",
       "      <td>{'lvl0': 'Computers &amp; Tablets', 'lvl1': 'Compu...</td>\n",
       "      <td>Burst skus</td>\n",
       "      <td>499.99</td>\n",
       "      <td>200 - 500</td>\n",
       "      <td>https://cdn-demo.algolia.com/bestbuy-0118/5588...</td>\n",
       "      <td>https://api.bestbuy.com/click/-/5588602/pdp</td>\n",
       "      <td>True</td>\n",
       "      <td>4</td>\n",
       "      <td>21467</td>\n",
       "      <td>5588602</td>\n",
       "    </tr>\n",
       "    <tr>\n",
       "      <th>3</th>\n",
       "      <td>Amazon - Echo Dot</td>\n",
       "      <td>Deliver your favorite playlist anywhere in you...</td>\n",
       "      <td>Amazon</td>\n",
       "      <td>[Smart Home]</td>\n",
       "      <td>{'lvl0': 'Smart Home'}</td>\n",
       "      <td>Voice assistants</td>\n",
       "      <td>49.99</td>\n",
       "      <td>1 - 50</td>\n",
       "      <td>https://cdn-demo.algolia.com/bestbuy-0118/5578...</td>\n",
       "      <td>https://api.bestbuy.com/click/-/5578851/pdp</td>\n",
       "      <td>True</td>\n",
       "      <td>4</td>\n",
       "      <td>21466</td>\n",
       "      <td>5578851</td>\n",
       "    </tr>\n",
       "    <tr>\n",
       "      <th>4</th>\n",
       "      <td>Apple - MacBook Air® (Latest Model) - 13.3\" Di...</td>\n",
       "      <td>MacBook Air features up to 8GB of memory, a fi...</td>\n",
       "      <td>Apple</td>\n",
       "      <td>[Computers &amp; Tablets, Laptops, All Laptops, Ma...</td>\n",
       "      <td>{'lvl0': 'Computers &amp; Tablets', 'lvl1': 'Compu...</td>\n",
       "      <td>Apple</td>\n",
       "      <td>999.99</td>\n",
       "      <td>500 - 2000</td>\n",
       "      <td>https://cdn-demo.algolia.com/bestbuy-0118/6443...</td>\n",
       "      <td>https://api.bestbuy.com/click/-/6443034/pdp</td>\n",
       "      <td>True</td>\n",
       "      <td>4</td>\n",
       "      <td>21465</td>\n",
       "      <td>6443034</td>\n",
       "    </tr>\n",
       "  </tbody>\n",
       "</table>\n",
       "</div>"
      ],
      "text/plain": [
       "                                                name  \\\n",
       "0  Amazon - Fire TV Stick with Alexa Voice Remote...   \n",
       "1                        Google - Chromecast - Black   \n",
       "2  Dell - Inspiron 15.6\" Touch-Screen Laptop - In...   \n",
       "3                                  Amazon - Echo Dot   \n",
       "4  Apple - MacBook Air® (Latest Model) - 13.3\" Di...   \n",
       "\n",
       "                                         description   brand  \\\n",
       "0  Enjoy smart access to videos, games and apps w...  Amazon   \n",
       "1  Google Chromecast: Enjoy a world of entertainm...  Google   \n",
       "2  Dell Inspiron Laptop: Get speed and performanc...    Dell   \n",
       "3  Deliver your favorite playlist anywhere in you...  Amazon   \n",
       "4  MacBook Air features up to 8GB of memory, a fi...   Apple   \n",
       "\n",
       "                                          categories  \\\n",
       "0       [TV & Home Theater, Streaming Media Players]   \n",
       "1       [TV & Home Theater, Streaming Media Players]   \n",
       "2                     [Computers & Tablets, Laptops]   \n",
       "3                                       [Smart Home]   \n",
       "4  [Computers & Tablets, Laptops, All Laptops, Ma...   \n",
       "\n",
       "                              hierarchicalCategories                  type  \\\n",
       "0  {'lvl0': 'TV & Home Theater', 'lvl1': 'TV & Ho...  Streaming media plyr   \n",
       "1  {'lvl0': 'TV & Home Theater', 'lvl1': 'TV & Ho...  Streaming media plyr   \n",
       "2  {'lvl0': 'Computers & Tablets', 'lvl1': 'Compu...            Burst skus   \n",
       "3                             {'lvl0': 'Smart Home'}      Voice assistants   \n",
       "4  {'lvl0': 'Computers & Tablets', 'lvl1': 'Compu...                 Apple   \n",
       "\n",
       "    price price_range                                              image  \\\n",
       "0   39.99      1 - 50  https://cdn-demo.algolia.com/bestbuy-0118/5477...   \n",
       "1   35.00      1 - 50  https://cdn-demo.algolia.com/bestbuy-0118/4397...   \n",
       "2  499.99   200 - 500  https://cdn-demo.algolia.com/bestbuy-0118/5588...   \n",
       "3   49.99      1 - 50  https://cdn-demo.algolia.com/bestbuy-0118/5578...   \n",
       "4  999.99  500 - 2000  https://cdn-demo.algolia.com/bestbuy-0118/6443...   \n",
       "\n",
       "                                           url  free_shipping  rating  \\\n",
       "0  https://api.bestbuy.com/click/-/5477500/pdp          False       4   \n",
       "1  https://api.bestbuy.com/click/-/4397400/pdp          False       4   \n",
       "2  https://api.bestbuy.com/click/-/5588602/pdp           True       4   \n",
       "3  https://api.bestbuy.com/click/-/5578851/pdp           True       4   \n",
       "4  https://api.bestbuy.com/click/-/6443034/pdp           True       4   \n",
       "\n",
       "   popularity  objectID  \n",
       "0       21469   5477500  \n",
       "1       21468   4397400  \n",
       "2       21467   5588602  \n",
       "3       21466   5578851  \n",
       "4       21465   6443034  "
      ]
     },
     "execution_count": 21,
     "metadata": {},
     "output_type": "execute_result"
    }
   ],
   "source": [
    "df.head()"
   ]
  },
  {
   "cell_type": "markdown",
   "id": "ddbe532b",
   "metadata": {},
   "source": [
    "## INDEXING WITH ELASTIC SEARCH"
   ]
  },
  {
   "cell_type": "code",
   "execution_count": 8,
   "id": "ccb29d7a",
   "metadata": {},
   "outputs": [
    {
     "name": "stdout",
     "output_type": "stream",
     "text": [
      "Requirement already satisfied: elasticsearch in /Users/lord/opt/anaconda3/lib/python3.8/site-packages (7.13.3)\r\n",
      "Requirement already satisfied: certifi in /Users/lord/opt/anaconda3/lib/python3.8/site-packages (from elasticsearch) (2020.12.5)\r\n",
      "Requirement already satisfied: urllib3<2,>=1.21.1 in /Users/lord/opt/anaconda3/lib/python3.8/site-packages (from elasticsearch) (1.26.4)\r\n"
     ]
    }
   ],
   "source": [
    "!pip install elasticsearch"
   ]
  },
  {
   "cell_type": "code",
   "execution_count": 222,
   "id": "26f6f4a8",
   "metadata": {},
   "outputs": [],
   "source": [
    "from elasticsearch import Elasticsearch\n",
    "es = Elasticsearch([{'host': 'localhost', 'port': 9200}])"
   ]
  },
  {
   "cell_type": "code",
   "execution_count": 223,
   "id": "622f3eec",
   "metadata": {},
   "outputs": [
    {
     "name": "stdout",
     "output_type": "stream",
     "text": [
      ".apm-agent-configuration\n",
      ".apm-custom-link\n",
      ".kibana-event-log-7.13.3-000001\n",
      ".kibana_7.13.3_001\n",
      ".kibana_task_manager_7.13.3_001\n",
      "test\n",
      "zevi\n"
     ]
    },
    {
     "name": "stderr",
     "output_type": "stream",
     "text": [
      "/Users/lord/opt/anaconda3/lib/python3.8/site-packages/elasticsearch/connection/base.py:208: ElasticsearchWarning: this request accesses system indices: [.apm-agent-configuration, .apm-custom-link, .kibana_7.13.3_001, .kibana_task_manager_7.13.3_001], but in a future major version, direct access to system indices will be prevented by default\n",
      "  warnings.warn(message, category=ElasticsearchWarning)\n"
     ]
    }
   ],
   "source": [
    "for index in es.indices.get('*'):\n",
    "  print(index)"
   ]
  },
  {
   "cell_type": "code",
   "execution_count": 11,
   "id": "2a7612a4",
   "metadata": {},
   "outputs": [
    {
     "name": "stderr",
     "output_type": "stream",
     "text": [
      "/Users/lord/opt/anaconda3/lib/python3.8/site-packages/elasticsearch/connection/base.py:208: ElasticsearchWarning: [types removal] Specifying types in document index requests is deprecated, use the typeless endpoints instead (/{index}/_doc/{id}, /{index}/_doc, or /{index}/_create/{id}).\n",
      "  warnings.warn(message, category=ElasticsearchWarning)\n"
     ]
    },
    {
     "name": "stdout",
     "output_type": "stream",
     "text": [
      "DONE\n"
     ]
    }
   ],
   "source": [
    "import json\n",
    "json_file = open('Zevi_search_dataset.json')\n",
    "products = json.load(json_file) # load as json\n",
    "for product in products : \n",
    "    res = es.index(index='zevi', doc_type=\"product\", id=product['objectID'], body=product) # index in ES\n",
    "    if res['_shards']['failed']==1 : # if indexing fails\n",
    "        print(res) # print where did it fail\n",
    "print(\"DONE\")"
   ]
  },
  {
   "cell_type": "markdown",
   "id": "dd34086e",
   "metadata": {},
   "source": [
    "### WHAT THE CONTEXTUAL SEARCH SHOULD LOOK LIKE"
   ]
  },
  {
   "cell_type": "raw",
   "id": "577f78f9",
   "metadata": {},
   "source": [
    "GET /_search\n",
    "{\n",
    "  \"query\": { \n",
    "    \"bool\": { \n",
    "      \"must\": [\n",
    "        { \"match\": { \"name\":   \"Search\"        }},      # BASELINE SEARCH \n",
    "        { \"match\": { \"description\": \"Elasticsearch\" }}\n",
    "      ],\n",
    "      \"filter\": [ \n",
    "        { \"term\":  { \"brand/category/type\": keyword }}, # FILTERS BASED ON RESULTS FROM SPACY\n",
    "        { \"range\": { \"rating/price\": { \"gte/lte\": number }}}\n",
    "      ]\n",
    "    }\n",
    "  }\n",
    "}"
   ]
  },
  {
   "cell_type": "code",
   "execution_count": 10,
   "id": "94994630",
   "metadata": {},
   "outputs": [
    {
     "name": "stdout",
     "output_type": "stream",
     "text": [
      "Dell - Inspiron 15.6\" Laptop - Intel Pentium - 8GB Memory - 1TB Hard Drive - Black  : 449$\n",
      "\n",
      "Dell - Inspiron 17.3\" Laptop - AMD A9-Series - 8GB Memory - 1TB Hard Drive - Gray  : 499$\n",
      "\n",
      "Dell - Latitude 14.1\" Refurbished Laptop - Intel Core i5 - 8GB Memory - 500GB Hard Drive - Black  : 226$\n",
      "\n",
      "Dell - Latitude 12.5\" Refurbished Laptop - Intel Core i5 - 8GB Memory - 750GB Hard Drive - Black  : 269$\n",
      "\n",
      "Dell - Latitude 14\" Refurbished Laptop - Intel Core i5 - 8GB Memory - 500GB Hard Drive - Gray  : 310$\n",
      "\n",
      "Dell - Latitude 12.5\" Refurbished Laptop - Intel Core i5 - 8GB Memory - 750GB Hard Drive - Black  : 307$\n",
      "\n",
      "Dell - Latitude 14\" Refurbished Laptop - Intel Core i5 - 8GB Memory - 750GB Hard Drive - Black  : 325$\n",
      "\n",
      "Dell - Latitude 13.3\" Refurbished Laptop - Intel Core i5 - 8GB Memory - 750GB Hard Drive - Black  : 336$\n",
      "\n",
      "Dell - Latitude 14\" Refurbished Laptop - Intel Core i5 - 8GB Memory - 240GB Solid State Drive  : 363$\n",
      "\n",
      "Dell - Inspiron 15.6\" Touch-Screen Laptop - Intel Core i5 - 8GB Memory - 1TB Hard Drive - Black  : 499$\n",
      "\n"
     ]
    }
   ],
   "source": [
    "query = 'Dell laptop 8GB RAM under 500'\n",
    "search_term = 'laptop 8GB RAM' # query minus detected entities\n",
    "price = 500 \n",
    "brand = \"Dell\"\n",
    "body = {\"query\": {\"bool\": {\"must\":  # If-else is needed acc to detected entities\n",
    "      [\n",
    "        { \"match\": {\"name\": search_term}   },\n",
    "        { \"match\": { \"brand\": brand }      }\n",
    "      ],\n",
    "      \"filter\": [\n",
    "        { \"range\": { \"price\": { \"lte\": price }}} # filter results to show less than 500$\n",
    "      ]              \n",
    "                          }}}\n",
    "res = es.search(index='zevi', body=body)\n",
    "for doc in res['hits']['hits']:\n",
    "    print(doc['_source']['name'],f\" : {int(doc['_source']['price'])}$\"\"\\n\")"
   ]
  },
  {
   "cell_type": "markdown",
   "id": "1e3e5da7",
   "metadata": {},
   "source": [
    "Also worth checking out : https://www.elastic.co/guide/en/elasticsearch/reference/1.4/search-explain.html"
   ]
  },
  {
   "cell_type": "markdown",
   "id": "b1b63c6f",
   "metadata": {},
   "source": [
    "### NER : The Missing Hero !\n",
    "<img src=\"https://i.pinimg.com/originals/98/26/ee/9826eec1919e6e616f8316ce69731b0f.jpg\" width=500 align=left>"
   ]
  },
  {
   "cell_type": "code",
   "execution_count": 12,
   "id": "03dc54fe",
   "metadata": {},
   "outputs": [
    {
     "name": "stdout",
     "output_type": "stream",
     "text": [
      "8 CARDINAL\n"
     ]
    }
   ],
   "source": [
    "import spacy\n",
    "\n",
    "# Load English tokenizer, tagger, parser and NER\n",
    "nlp = spacy.load(\"en_core_web_sm\")\n",
    "\n",
    "# Process whole documents\n",
    "text = \"Dell laptop 8GB RAM under 500\"\n",
    "doc = nlp(text)\n",
    "\n",
    "# Find named entities, phrases and concepts\n",
    "for entity in doc.ents:\n",
    "    print(entity.text, entity.label_)"
   ]
  },
  {
   "cell_type": "markdown",
   "id": "9f67d3f8",
   "metadata": {},
   "source": [
    "#### Since Spacy is upto no good for our task, a custom NER is needed.\n",
    "#### I will train my model using monkeylearn and use the resultant API here."
   ]
  },
  {
   "cell_type": "markdown",
   "id": "9830343b",
   "metadata": {},
   "source": [
    "## Creating Dataset for custom NER"
   ]
  },
  {
   "cell_type": "code",
   "execution_count": 62,
   "id": "6a3a7cf0",
   "metadata": {},
   "outputs": [
    {
     "data": {
      "text/plain": [
       "'Google - Chromecast - Black'"
      ]
     },
     "execution_count": 62,
     "metadata": {},
     "output_type": "execute_result"
    }
   ],
   "source": [
    "df['name'][1]"
   ]
  },
  {
   "cell_type": "code",
   "execution_count": 44,
   "id": "c5a5d39b",
   "metadata": {},
   "outputs": [
    {
     "data": {
      "text/plain": [
       "'Google - Chromecast - Black - free shipping - 4 star - 35.0'"
      ]
     },
     "execution_count": 44,
     "metadata": {},
     "output_type": "execute_result"
    }
   ],
   "source": [
    "df['name'][1]+' - free shipping' + f\" - {df['rating'][1]} star - {df['price'][1]}\" # concat name"
   ]
  },
  {
   "cell_type": "code",
   "execution_count": 398,
   "id": "625ccbb2",
   "metadata": {},
   "outputs": [],
   "source": [
    "import nltk\n",
    "import re\n",
    "from nltk.corpus import stopwords\n",
    "from  nltk.stem import SnowballStemmer\n",
    "TEXT_CLEANING_RE = \"@\\S+|https?:\\S+|http?:\\S|[^A-Za-z0-9]+\"\n",
    "\n",
    "stop_words = stopwords.words(\"english\")\n",
    "stemmer = SnowballStemmer(\"english\")\n",
    "\n",
    "def preprocess(text, stem=False):\n",
    "    \n",
    "    text = re.sub(TEXT_CLEANING_RE, ' ', str(text).lower()).strip()\n",
    "    tokens = []\n",
    "    for token in text.split():\n",
    "        if token not in stop_words:\n",
    "            if stem:\n",
    "                tokens.append(stemmer.stem(token))\n",
    "            else:\n",
    "                tokens.append(token)\n",
    "    return \" \".join(tokens)"
   ]
  },
  {
   "cell_type": "code",
   "execution_count": 400,
   "id": "f67adb9a",
   "metadata": {},
   "outputs": [
    {
     "name": "stdout",
     "output_type": "stream",
     "text": [
      "roku express stream media player black\n",
      "lenovo 110 15isk 15 6 laptop intel core i3 4gb memori 1tb hard drive black\n",
      "philip hue white color ambianc a19 add smart led bulb 3rd gen multicolor\n",
      "hp 61 2 pack ink cartridg black cyan magenta yellow\n",
      "appl macbook air latest model 13 3 display intel core i5 8gb memori 256gb flash storag silver\n"
     ]
    }
   ],
   "source": [
    "for i in [11,22,33,44,55]:\n",
    "    print(preprocess(df['name'][i],stem=True))"
   ]
  },
  {
   "cell_type": "code",
   "execution_count": 401,
   "id": "766d7865",
   "metadata": {},
   "outputs": [
    {
     "name": "stdout",
     "output_type": "stream",
     "text": [
      "roku express streaming media player black\n",
      "lenovo 110 15isk 15 6 laptop intel core i3 4gb memory 1tb hard drive black\n",
      "philips hue white color ambiance a19 add smart led bulb 3rd gen multicolor\n",
      "hp 61 2 pack ink cartridges black cyan magenta yellow\n",
      "apple macbook air latest model 13 3 display intel core i5 8gb memory 256gb flash storage silver\n"
     ]
    }
   ],
   "source": [
    "for i in [11,22,33,44,55]:\n",
    "    print(preprocess(df['name'][i],stem=False))"
   ]
  },
  {
   "cell_type": "markdown",
   "id": "9bfdadc2",
   "metadata": {},
   "source": [
    "#### Both methods return very different results for our dataset\n",
    "This means our dataset will be very much impacted by the stemming. Therefore, there should not be any stemming in the dataset. Hence, I will use **stem=True** below. "
   ]
  },
  {
   "cell_type": "code",
   "execution_count": 128,
   "id": "587157af",
   "metadata": {},
   "outputs": [
    {
     "data": {
      "text/html": [
       "<div>\n",
       "<style scoped>\n",
       "    .dataframe tbody tr th:only-of-type {\n",
       "        vertical-align: middle;\n",
       "    }\n",
       "\n",
       "    .dataframe tbody tr th {\n",
       "        vertical-align: top;\n",
       "    }\n",
       "\n",
       "    .dataframe thead th {\n",
       "        text-align: right;\n",
       "    }\n",
       "</style>\n",
       "<table border=\"1\" class=\"dataframe\">\n",
       "  <thead>\n",
       "    <tr style=\"text-align: right;\">\n",
       "      <th></th>\n",
       "      <th>name</th>\n",
       "    </tr>\n",
       "  </thead>\n",
       "  <tbody>\n",
       "    <tr>\n",
       "      <th>0</th>\n",
       "      <td>amazon fire tv stick alexa voice remote black ...</td>\n",
       "    </tr>\n",
       "    <tr>\n",
       "      <th>1</th>\n",
       "      <td>google chromecast black 4 star 35</td>\n",
       "    </tr>\n",
       "    <tr>\n",
       "      <th>2</th>\n",
       "      <td>dell inspiron 15 6 touch screen laptop intel c...</td>\n",
       "    </tr>\n",
       "    <tr>\n",
       "      <th>3</th>\n",
       "      <td>amazon echo dot free shipping 4 star 49</td>\n",
       "    </tr>\n",
       "    <tr>\n",
       "      <th>4</th>\n",
       "      <td>apple macbook air latest model 13 3 display in...</td>\n",
       "    </tr>\n",
       "  </tbody>\n",
       "</table>\n",
       "</div>"
      ],
      "text/plain": [
       "                                                name\n",
       "0  amazon fire tv stick alexa voice remote black ...\n",
       "1                  google chromecast black 4 star 35\n",
       "2  dell inspiron 15 6 touch screen laptop intel c...\n",
       "3            amazon echo dot free shipping 4 star 49\n",
       "4  apple macbook air latest model 13 3 display in..."
      ]
     },
     "execution_count": 128,
     "metadata": {},
     "output_type": "execute_result"
    }
   ],
   "source": [
    "name_df = pd.DataFrame(columns=['name'])\n",
    "for i in range(len(df['name'])):\n",
    "    name = preprocess(df['name'][i], stem=False)\n",
    "    if df['free_shipping'][i]: # If free shipping exists, save it in name\n",
    "        name_df = name_df.append({'name': name +' free shipping' + f\" {df['rating'][i]} star {int(df['price'][i])}$\"}, ignore_index=True)\n",
    "    else :\n",
    "        name_df = name_df.append({'name': name + f\" {df['rating'][i]} star {int(df['price'][i])}\"}, ignore_index=True)\n",
    "name_df.head()"
   ]
  },
  {
   "cell_type": "code",
   "execution_count": 129,
   "id": "e98a3b7d",
   "metadata": {},
   "outputs": [
    {
     "name": "stdout",
     "output_type": "stream",
     "text": [
      "Untitled.ipynb              training_data-processed.csv\r\n",
      "Zevi_search_dataset.json    training_data.csv\r\n",
      "laptops.csv\r\n"
     ]
    }
   ],
   "source": [
    "name_df.to_csv('training_data-processed.csv')\n",
    "!ls"
   ]
  },
  {
   "cell_type": "code",
   "execution_count": 130,
   "id": "e245960f",
   "metadata": {},
   "outputs": [
    {
     "data": {
      "text/plain": [
       "21326"
      ]
     },
     "execution_count": 130,
     "metadata": {},
     "output_type": "execute_result"
    }
   ],
   "source": [
    "len(name_df.name.unique().tolist())"
   ]
  },
  {
   "cell_type": "code",
   "execution_count": 78,
   "id": "0db67ecc",
   "metadata": {
    "scrolled": true
   },
   "outputs": [
    {
     "name": "stdout",
     "output_type": "stream",
     "text": [
      "Requirement already satisfied: monkeylearn in /Users/lord/opt/anaconda3/lib/python3.8/site-packages (3.5.2)\r\n",
      "Requirement already satisfied: six>=1.10.0 in /Users/lord/opt/anaconda3/lib/python3.8/site-packages (from monkeylearn) (1.16.0)\r\n",
      "Requirement already satisfied: requests>=2.8.1 in /Users/lord/opt/anaconda3/lib/python3.8/site-packages (from monkeylearn) (2.26.0)\r\n",
      "Requirement already satisfied: charset-normalizer~=2.0.0 in /Users/lord/opt/anaconda3/lib/python3.8/site-packages (from requests>=2.8.1->monkeylearn) (2.0.3)\r\n",
      "Requirement already satisfied: idna<4,>=2.5 in /Users/lord/opt/anaconda3/lib/python3.8/site-packages (from requests>=2.8.1->monkeylearn) (3.2)\r\n",
      "Requirement already satisfied: certifi>=2017.4.17 in /Users/lord/opt/anaconda3/lib/python3.8/site-packages (from requests>=2.8.1->monkeylearn) (2021.5.30)\r\n",
      "Requirement already satisfied: urllib3<1.27,>=1.21.1 in /Users/lord/opt/anaconda3/lib/python3.8/site-packages (from requests>=2.8.1->monkeylearn) (1.26.6)\r\n"
     ]
    }
   ],
   "source": [
    "!pip install monkeylearn"
   ]
  },
  {
   "cell_type": "code",
   "execution_count": 135,
   "id": "c20f82ff",
   "metadata": {},
   "outputs": [],
   "source": [
    "from monkeylearn import MonkeyLearn\n",
    "\n",
    "text = \"HP Laptops 512GB 4 star 500$\"\n",
    "ml = MonkeyLearn('c2cf077e8886eecf879de6fff30e1f72b38652ef')\n",
    "model_id = 'ex_sUxkptEt'\n",
    "data = [text]\n",
    "response = ml.extractors.extract(model_id, data=data)"
   ]
  },
  {
   "cell_type": "code",
   "execution_count": 136,
   "id": "d8641142",
   "metadata": {},
   "outputs": [
    {
     "name": "stdout",
     "output_type": "stream",
     "text": [
      "{'tag_name': 'Brand', 'extracted_text': 'HP', 'parsed_value': 'HP', 'offset_span': [0, 1]}\n",
      "{'tag_name': 'Rating', 'extracted_text': '4 star', 'parsed_value': '4 star', 'offset_span': [17, 22]}\n",
      "{'tag_name': 'Price', 'extracted_text': '500', 'parsed_value': '500', 'offset_span': [24, 26]}\n"
     ]
    }
   ],
   "source": [
    "for i in response.body[0]['extractions']:\n",
    "    print(i)"
   ]
  },
  {
   "cell_type": "markdown",
   "id": "be5be691",
   "metadata": {},
   "source": [
    "## Trying a manual explicit approach for Price Filter\n",
    "- NER is not good to detect price\n",
    "- Manual approach is needed\n",
    "    - find amount reference\n",
    "    - find whether query wants higher or lower\n",
    "    - use it to specify price filters in ES query"
   ]
  },
  {
   "cell_type": "code",
   "execution_count": 176,
   "id": "0646e3be",
   "metadata": {},
   "outputs": [
    {
     "name": "stdout",
     "output_type": "stream",
     "text": [
      "(17, 25)\n"
     ]
    }
   ],
   "source": [
    "import re\n",
    "string = 'hello my name is vibhansh gupta'\n",
    "pattern = 'vibhansh'\n",
    "match=(re.search(pattern, string))\n",
    "print(match.span())"
   ]
  },
  {
   "cell_type": "code",
   "execution_count": 177,
   "id": "ecaccd0e",
   "metadata": {},
   "outputs": [
    {
     "data": {
      "text/plain": [
       "'vibhansh'"
      ]
     },
     "execution_count": 177,
     "metadata": {},
     "output_type": "execute_result"
    }
   ],
   "source": [
    "string[match.span()[0]:match.span()[1]]"
   ]
  },
  {
   "cell_type": "code",
   "execution_count": 350,
   "id": "6d160d37",
   "metadata": {},
   "outputs": [],
   "source": [
    "def is_float(n):\n",
    "    try:\n",
    "        float(n)\n",
    "    except ValueError:\n",
    "        return False\n",
    "    return True\n",
    "def is_int(n):\n",
    "    try:\n",
    "        int(n)\n",
    "    except ValueError:\n",
    "        return False\n",
    "    return True\n",
    "\n",
    "def amount(string):\n",
    "    for i in string.split():\n",
    "        if \"$\" or \" $\" in i :  # Find '$' in query\n",
    "            i=i.replace(\"$\",\"\")\n",
    "            return i\n",
    "            break\n",
    "        elif is_float(string.split()[0]) or is_int(string.split()[0]):\n",
    "            return string.split()[0]\n",
    "        else :\n",
    "            return None\n",
    "        \n",
    "def price_filter(string):        \n",
    "    greater = ['more than','above','over','higher than'] # filter keywords\n",
    "    smaller = ['less than','below','under','lower than'] # filter keywords\n",
    "    lte, gte, lte_amount, gte_amount=False, False, None, None\n",
    "    for i in string.split() :\n",
    "        for j in greater:\n",
    "            if i == j : # if keyword found in query\n",
    "                gte = True\n",
    "                pos = re.search(i,string).span() # Search for position of keyword\n",
    "                gte_amount = amount(string[pos[1]:]) # Find amount ahead of the keyword \n",
    "                break\n",
    "        for j in smaller :\n",
    "            if i == j : # if keyword found in query\n",
    "                lte = True\n",
    "                pos = re.search(i,string).span() # Search for position of keyword\n",
    "                lte_amount = amount(string[pos[1]:]) # Find amount ahead of the keyword \n",
    "                break\n",
    "    return { 'gte_flag':gte, 'gte_amount':gte_amount, 'lte_flag':lte, 'lte_amount':lte_amount}"
   ]
  },
  {
   "cell_type": "code",
   "execution_count": 352,
   "id": "75cdf384",
   "metadata": {},
   "outputs": [
    {
     "name": "stdout",
     "output_type": "stream",
     "text": [
      "{'gte_flag': False, 'gte_amount': None, 'lte_flag': True, 'lte_amount': '500.00'}\n"
     ]
    }
   ],
   "source": [
    "l = \"Dell laptop 512 GB with free shipping under 500.00 $ but more than 250\"\n",
    "res = price_filter(l)\n",
    "print(res)"
   ]
  },
  {
   "cell_type": "markdown",
   "id": "c1769739",
   "metadata": {},
   "source": [
    "# RUNNING THE SEARCH"
   ]
  },
  {
   "cell_type": "code",
   "execution_count": 279,
   "id": "cbd92cb6",
   "metadata": {},
   "outputs": [
    {
     "data": {
      "text/plain": [
       "'hello  abcd'"
      ]
     },
     "execution_count": 279,
     "metadata": {},
     "output_type": "execute_result"
    }
   ],
   "source": [
    "\"hello my name is abcd\".replace(\"my name is\",\"\")"
   ]
  },
  {
   "cell_type": "code",
   "execution_count": 403,
   "id": "a70e8e9f",
   "metadata": {},
   "outputs": [
    {
     "name": "stdout",
     "output_type": "stream",
     "text": [
      "Given Text :  pink iPhone cover\n",
      "\n",
      "Prices :  {'gte_flag': False, 'gte_amount': None, 'lte_flag': False, 'lte_amount': None}\n",
      "\n",
      " ENTITIES DETECTED :\n",
      "\n",
      " {'tag_name': 'Colour', 'extracted_text': 'pink', 'parsed_value': 'pink', 'offset_span': [0, 3]}\n",
      "\n",
      "Search Term Extracted: iphone cover\n"
     ]
    }
   ],
   "source": [
    "import datetime\n",
    "query = 'pink iPhone cover'\n",
    "print(\"Given Text : \",query)\n",
    "search_term = query\n",
    "prices = price_filter(query) # Detect Price\n",
    "print(\"\\nPrices : \",prices)\n",
    "\n",
    "# Run NER Model\n",
    "data = [query]\n",
    "response = ml.extractors.extract(model_id, data=data)\n",
    "\n",
    "brand, colour, shipping, rating, latest = None, None, None, None, None\n",
    "print(\"\\n ENTITIES DETECTED :\")\n",
    "for i in response.body[0]['extractions']:\n",
    "    print('\\n',i)\n",
    "    search_term = search_term.replace(i['extracted_text'],\"\") # Remove unnecessary stuff\n",
    "    # Save every entity if found\n",
    "    if i['tag_name']=='Brand':\n",
    "        brand=i['extracted_text']\n",
    "    elif i['tag_name']=='Colour':\n",
    "        colour=i['extracted_text']\n",
    "    elif i['tag_name']=='Shipping':\n",
    "        shipping=i['extracted_text']\n",
    "    elif i['tag_name']=='Rating':\n",
    "        rating=i['extracted_text'][0]\n",
    "for i in query.split():\n",
    "    if i.lower()=='latest' :\n",
    "        search_term = search_term.replace(i,\"\")\n",
    "        latest = str(datetime.date.today().year)\n",
    "\n",
    "# Remove amount found from search term\n",
    "if prices['gte_flag']:\n",
    "    search_term = search_term.replace(prices['gte_amount']+\"$\",\"\")\n",
    "if prices['lte_flag']:\n",
    "    search_term = search_term.replace(prices['lte_amount']+\"$\",\"\")\n",
    "    \n",
    "search_term = preprocess(search_term, stem=False)\n",
    "print('\\nSearch Term Extracted:',search_term)"
   ]
  },
  {
   "cell_type": "code",
   "execution_count": 404,
   "id": "a8c3edac",
   "metadata": {},
   "outputs": [
    {
     "name": "stdout",
     "output_type": "stream",
     "text": [
      "None pink None None None\n"
     ]
    }
   ],
   "source": [
    "print(brand, colour, shipping, rating, latest)"
   ]
  },
  {
   "cell_type": "code",
   "execution_count": 405,
   "id": "010950d2",
   "metadata": {},
   "outputs": [],
   "source": [
    "# AVAILABLE FILTERS : BRAND, COLOUR, FREE SHIPPING, RATING & PRICE RANGE\n",
    "filters = []\n",
    "if prices['gte_flag']:\n",
    "    filters.append({ \"range\": { \"price\": { \"gte\": prices['gte_amount'] }}})\n",
    "if prices['lte_flag']:\n",
    "    filters.append({ \"range\": { \"price\": { \"lte\": prices['lte_amount'] }}})\n",
    "if brand is not None :\n",
    "    filters.append({ \"match\": { \"brand\": brand }})\n",
    "if rating is not None :\n",
    "    filters.append({ \"term\": { \"rating\": rating }})\n",
    "if shipping is not None :\n",
    "    filters.append({ \"term\": { \"free_shipping\": True }})\n",
    "    \n",
    "musts = [{ \"match\": {\"name\": search_term} }]\n",
    "if colour is not None:\n",
    "    musts.append({ \"match\": {\"name\": colour} })\n",
    "if latest is not None:\n",
    "    musts.append({ \"match\": {\"name\": latest} })\n",
    "# if [brand, colour, shipping, rating, latest] == [None, None, None, None, None]:\n",
    "#     musts.append({ \"match\": {\"description\": search_term}})"
   ]
  },
  {
   "cell_type": "code",
   "execution_count": 406,
   "id": "690a224b",
   "metadata": {
    "scrolled": false
   },
   "outputs": [
    {
     "name": "stdout",
     "output_type": "stream",
     "text": [
      "QUERY WAS :  pink iPhone cover \n",
      "\n",
      "NAME :  OtterBox - Defender Series Protective Cover for Apple iPhone SE - Pink  RATING :  4 PRICE :  49.99 \n",
      "\n",
      "NAME :  ADOPTED - Back Cover for Apple iPhone 6 and 6s - Pink  RATING :  4 PRICE :  39.99 \n",
      "\n",
      "NAME :  Hello Kitty - Polycarbonate Cover for Apple® iPhone® 5 - Black/Pink  RATING :  3 PRICE :  19.99 \n",
      "\n",
      "NAME :  Incipio - PERFORMANCE Back Cover for Samsung Galaxy S7 - Pink  RATING :  5 PRICE :  24.99 \n",
      "\n",
      "NAME :  Incipio - STOWAWAY Back Cover for Samsung Galaxy S7 - Pink  RATING :  4 PRICE :  27.99 \n",
      "\n",
      "NAME :  Apple - Smart Cover for iPad mini 4 - Pink Sand  RATING :  4 PRICE :  39.99 \n",
      "\n",
      "NAME :  Apple - Smart Cover for iPad mini 4 - Light Pink  RATING :  4 PRICE :  39.99 \n",
      "\n",
      "NAME :  Apple - Smart Cover for 9.7-inch iPad Pro - Pink Sand  RATING :  4 PRICE :  49.99 \n",
      "\n",
      "NAME :  Apple - Silicone Cover for 9.7-inch iPad Pro - Light Pink  RATING :  4 PRICE :  69.99 \n",
      "\n",
      "NAME :  Apple - Silicone Cover for 9.7-inch iPad Pro - Pink Sand  RATING :  4 PRICE :  69.99 \n",
      "\n"
     ]
    }
   ],
   "source": [
    "print(\"QUERY WAS : \", query,\"\\n\")\n",
    "body = {\"query\": {\"bool\": {\"must\": musts, # to show must needed results\n",
    "                           \"filter\": filters # to show relevant results\n",
    "                           }     }    }     \n",
    "\n",
    "res = es.search(index='zevi', body=body)\n",
    "for doc in res['hits']['hits']:\n",
    "    print(\"NAME : \",doc['_source']['name'],\" RATING : \",doc['_source']['rating'],\n",
    "                \"PRICE : \",doc['_source']['price'],\"\\n\")"
   ]
  },
  {
   "cell_type": "code",
   "execution_count": 373,
   "id": "16fe3eba",
   "metadata": {},
   "outputs": [
    {
     "data": {
      "text/plain": [
       "'2021'"
      ]
     },
     "execution_count": 373,
     "metadata": {},
     "output_type": "execute_result"
    }
   ],
   "source": [
    "latest"
   ]
  },
  {
   "cell_type": "code",
   "execution_count": null,
   "id": "cf3daa0a",
   "metadata": {},
   "outputs": [],
   "source": []
  }
 ],
 "metadata": {
  "kernelspec": {
   "display_name": "Python 3",
   "language": "python",
   "name": "python3"
  },
  "language_info": {
   "codemirror_mode": {
    "name": "ipython",
    "version": 3
   },
   "file_extension": ".py",
   "mimetype": "text/x-python",
   "name": "python",
   "nbconvert_exporter": "python",
   "pygments_lexer": "ipython3",
   "version": "3.8.5"
  }
 },
 "nbformat": 4,
 "nbformat_minor": 5
}
